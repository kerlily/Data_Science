{
 "cells": [
  {
   "cell_type": "code",
   "execution_count": 1,
   "id": "c1a2295d-e1bc-4e19-81e3-1888aaf32c6c",
   "metadata": {},
   "outputs": [
    {
     "name": "stdout",
     "output_type": "stream",
     "text": [
      "+=============================+\n",
      "| Welcome to my game, muggle!  |\n",
      "| Enter an integer number      |\n",
      "| and guess what number I've   |\n",
      "| picked for you.              |\n",
      "| So, what is the secret number?|\n",
      "+=============================+\n"
     ]
    },
    {
     "name": "stdout",
     "output_type": "stream",
     "text": [
      "So, what is the secret number?  5\n"
     ]
    },
    {
     "name": "stdout",
     "output_type": "stream",
     "text": [
      "Ha ha! You're stuck in my loop!\n"
     ]
    },
    {
     "name": "stdout",
     "output_type": "stream",
     "text": [
      "So, what is the secret number?  9\n"
     ]
    },
    {
     "name": "stdout",
     "output_type": "stream",
     "text": [
      "Ha ha! You're stuck in my loop!\n"
     ]
    },
    {
     "name": "stdout",
     "output_type": "stream",
     "text": [
      "So, what is the secret number?  333\n"
     ]
    },
    {
     "name": "stdout",
     "output_type": "stream",
     "text": [
      "Ha ha! You're stuck in my loop!\n"
     ]
    },
    {
     "name": "stdout",
     "output_type": "stream",
     "text": [
      "So, what is the secret number?  26\n"
     ]
    },
    {
     "name": "stdout",
     "output_type": "stream",
     "text": [
      "Ha ha! You're stuck in my loop!\n"
     ]
    },
    {
     "name": "stdout",
     "output_type": "stream",
     "text": [
      "So, what is the secret number?  777\n"
     ]
    },
    {
     "name": "stdout",
     "output_type": "stream",
     "text": [
      "Well done, muggle! You are free now.\n"
     ]
    }
   ],
   "source": [
    "# Angka rahasia yang harus ditebak\n",
    "secret_number = 777\n",
    "\n",
    "# Welcome message\n",
    "print(\"+=============================+\")\n",
    "print(\"| Welcome to my game, muggle!  |\")\n",
    "print(\"| Enter an integer number      |\")\n",
    "print(\"| and guess what number I've   |\")\n",
    "print(\"| picked for you.              |\")\n",
    "print(\"| So, what is the secret number?|\")\n",
    "print(\"+=============================+\")\n",
    "\n",
    "# Loop tebak angka\n",
    "while True:\n",
    "    # Meminta input dari pengguna\n",
    "    guess = int(input(\"So, what is the secret number? \"))\n",
    "    \n",
    "    # Jika tebakannya benar\n",
    "    if guess == secret_number:\n",
    "        print(\"Well done, muggle! You are free now.\")\n",
    "        break\n",
    "    else:\n",
    "        # Jika salah, tetap dalam loop\n",
    "        print(\"Ha ha! You're stuck in my loop!\")\n"
   ]
  },
  {
   "cell_type": "code",
   "execution_count": 3,
   "id": "c4762db0-9460-4ed1-8733-b0d9f547ab9f",
   "metadata": {},
   "outputs": [
    {
     "name": "stdout",
     "output_type": "stream",
     "text": [
      "You've successfully left the loop\n"
     ]
    }
   ],
   "source": [
    "# Loop meminta input kata\n",
    "while True:\n",
    "    word = input(\"Masukkan Sebuah Kata untuk keluar dari perulangan = \")\n",
    "    \n",
    "    # Cek apakah kata yang dimasukkan adalah 'chupacabra'\n",
    "    if word == \"chupacabra\":\n",
    "        print(\"You've successfully left the loop\")\n",
    "        break  # Keluar dari perulangan jika kata yang dimasukkan adalah 'chupacabra'\n"
   ]
  },
  {
   "cell_type": "code",
   "execution_count": 5,
   "id": "bd300a90-0518-4b23-b798-e9377176bdb7",
   "metadata": {},
   "outputs": [
    {
     "name": "stdout",
     "output_type": "stream",
     "text": [
      "W\n",
      "K\n",
      "W\n"
     ]
    }
   ],
   "source": [
    "# Meminta pengguna untuk memasukkan kata\n",
    "userWord = input(\"Enter a word: \")\n",
    "\n",
    "# Mengubah kata menjadi huruf kapital\n",
    "userWord = userWord.upper()\n",
    "\n",
    "# Loop melalui setiap huruf dalam kata\n",
    "for letter in userWord:\n",
    "    # Jika huruf adalah vokal, lewati (gunakan continue)\n",
    "    if letter in ('A', 'E', 'I', 'O', 'U'):\n",
    "        continue\n",
    "    # Cetak huruf yang bukan vokal\n",
    "    print(letter)\n"
   ]
  },
  {
   "cell_type": "code",
   "execution_count": 15,
   "id": "e4b4a5e3-2260-409e-b565-6396a2c3ca89",
   "metadata": {},
   "outputs": [
    {
     "name": "stdout",
     "output_type": "stream",
     "text": [
      "1\n",
      "3\n",
      "5\n",
      "7\n",
      "9\n"
     ]
    }
   ],
   "source": [
    "# Perulangan for untuk mencetak nomor ganjil dari 0 sampai 10\n",
    "for number in range(11):  # dari 0 sampai 10\n",
    "    if number % 2 != 0:  # Jika angka ganjil\n",
    "        print(number)\n"
   ]
  },
  {
   "cell_type": "code",
   "execution_count": 17,
   "id": "afb78047-45f8-4459-aae1-1e60e6ff199f",
   "metadata": {},
   "outputs": [
    {
     "name": "stdout",
     "output_type": "stream",
     "text": [
      "1\n",
      "3\n",
      "5\n",
      "7\n",
      "9\n"
     ]
    }
   ],
   "source": [
    "# Perulangan while untuk mencetak nomor ganjil dari 0 sampai 10\n",
    "number = 0\n",
    "while number <= 10:\n",
    "    if number % 2 != 0:  # Jika angka ganjil\n",
    "        print(number)\n",
    "    number += 1\n"
   ]
  },
  {
   "cell_type": "code",
   "execution_count": 1,
   "id": "0899ac39-1070-4ffe-9e9b-f9dd262dced7",
   "metadata": {},
   "outputs": [
    {
     "name": "stdout",
     "output_type": "stream",
     "text": [
      "awiokwki"
     ]
    }
   ],
   "source": [
    "# Meminta pengguna memasukkan alamat email\n",
    "email = input(\"Masukkan alamat email: \")\n",
    "\n",
    "# Loop melalui setiap karakter dalam alamat email\n",
    "for char in email:\n",
    "    if char == '@':  # Jika menemukan '@', berhenti\n",
    "        break\n",
    "    print(char, end=\"\")  # Mencetak karakter sebelum '@'\n"
   ]
  },
  {
   "cell_type": "code",
   "execution_count": 27,
   "id": "48e48b67-7b5b-4bfe-a866-76186d3a8470",
   "metadata": {},
   "outputs": [
    {
     "name": "stdout",
     "output_type": "stream",
     "text": [
      "x165x318x651x\n"
     ]
    }
   ],
   "source": [
    "# String dengan digit angka\n",
    "digits = \"0165031806510\"\n",
    "modified_string = \"\"\n",
    "\n",
    "# Loop melalui setiap karakter dalam string digit\n",
    "for digit in digits:\n",
    "    if digit == '0':\n",
    "        modified_string += 'x'  # Ganti '0' dengan 'x'\n",
    "        continue  # Lanjutkan ke iterasi berikutnya\n",
    "    modified_string += digit  # Tambahkan karakter yang bukan '0'\n",
    "\n",
    "print(modified_string)  # Cetak string yang telah dimodifikasi\n"
   ]
  },
  {
   "cell_type": "code",
   "execution_count": null,
   "id": "3630fed8-a2e3-496b-8ae9-a438811cee75",
   "metadata": {},
   "outputs": [],
   "source": []
  }
 ],
 "metadata": {
  "kernelspec": {
   "display_name": "base",
   "language": "python",
   "name": "python3"
  },
  "language_info": {
   "codemirror_mode": {
    "name": "ipython",
    "version": 3
   },
   "file_extension": ".py",
   "mimetype": "text/x-python",
   "name": "python",
   "nbconvert_exporter": "python",
   "pygments_lexer": "ipython3",
   "version": "3.12.4"
  }
 },
 "nbformat": 4,
 "nbformat_minor": 5
}
