{
 "cells": [
  {
   "cell_type": "code",
   "execution_count": 1,
   "id": "faf74e12-7213-4d46-8d8e-2de0ea38a8c5",
   "metadata": {},
   "outputs": [
    {
     "name": "stdout",
     "output_type": "stream",
     "text": [
      "Please input a best plant =  spathiphyllum\n"
     ]
    },
    {
     "name": "stdout",
     "output_type": "stream",
     "text": [
      "No, I want a big Spathiphyllum!\n"
     ]
    }
   ],
   "source": [
    "# Python program to respond based on user input related to \"Spathiphyllum\"\n",
    "\n",
    "# Get input from user\n",
    "user_input = input(\"Please input a best plant = \")\n",
    "\n",
    "# Check for different conditions\n",
    "if user_input == \"Spathiphyllum\":\n",
    "    print(\"Yes - Spathiphyllum is the best plant ever!\")\n",
    "elif user_input == \"spathiphyllum\":\n",
    "    print(\"No, I want a big Spathiphyllum!\")\n",
    "else:\n",
    "    print(f\"Spathiphyllum! Not {user_input}!\")\n"
   ]
  },
  {
   "cell_type": "code",
   "execution_count": 3,
   "id": "41b716ac-5aa5-47e9-9dc0-d1019d6a2275",
   "metadata": {},
   "outputs": [
    {
     "name": "stdout",
     "output_type": "stream",
     "text": [
      "Enter the annual income:  10\n"
     ]
    },
    {
     "name": "stdout",
     "output_type": "stream",
     "text": [
      "The tax is: 0 thalers\n"
     ]
    }
   ],
   "source": [
    "def calculate_tax(income):\n",
    "    # Define constants\n",
    "    tax_relief = 556.02\n",
    "    income_threshold = 85528\n",
    "    base_tax_high_income = 14839.02\n",
    "    lower_tax_rate = 0.18\n",
    "    higher_tax_rate = 0.32\n",
    "\n",
    "    if income <= 0:\n",
    "        tax = 0\n",
    "    elif income <= income_threshold:\n",
    "        tax = (income * lower_tax_rate) - tax_relief\n",
    "    else:\n",
    "        tax = base_tax_high_income + (income - income_threshold) * higher_tax_rate\n",
    "\n",
    "    # If tax is less than zero, set it to zero\n",
    "    tax = max(0, tax)\n",
    "    \n",
    "    # Round the tax to the nearest whole number\n",
    "    return round(tax)\n",
    "\n",
    "# Contoh penggunaan\n",
    "income = float(input(\"Enter the annual income: \"))\n",
    "tax = calculate_tax(income)\n",
    "print(f\"The tax is: {tax} thalers\")\n"
   ]
  },
  {
   "cell_type": "code",
   "execution_count": 5,
   "id": "35c06672-db4f-47dc-8bc4-ce6506c2e5bc",
   "metadata": {},
   "outputs": [
    {
     "name": "stdout",
     "output_type": "stream",
     "text": [
      "Enter a year:  2024\n"
     ]
    },
    {
     "name": "stdout",
     "output_type": "stream",
     "text": [
      "Tahun kabisat\n"
     ]
    }
   ],
   "source": [
    "def check_leap_year(year):\n",
    "    # Check if year is within the Gregorian calendar period\n",
    "    if year < 1582:\n",
    "        return \"Not within the Gregorian calendar period\"\n",
    "    # Apply leap year rules\n",
    "    elif year % 4 != 0:\n",
    "        return \"Tahun umum\"\n",
    "    elif year % 100 != 0:\n",
    "        return \"Tahun kabisat\"\n",
    "    elif year % 400 != 0:\n",
    "        return \"Tahun umum\"\n",
    "    else:\n",
    "        return \"Tahun kabisat\"\n",
    "\n",
    "# Contoh penggunaan\n",
    "year = int(input(\"Enter a year: \"))\n",
    "result = check_leap_year(year)\n",
    "print(result)\n"
   ]
  },
  {
   "cell_type": "code",
   "execution_count": 7,
   "id": "28cf40f1-173d-4d1f-8ac5-1dc86eda7c63",
   "metadata": {},
   "outputs": [
    {
     "name": "stdout",
     "output_type": "stream",
     "text": [
      "False\n",
      "True\n"
     ]
    }
   ],
   "source": [
    "x = 5\n",
    "y = 10\n",
    "z = 8\n",
    "\n",
    "print(x > y)\n",
    "print(y > z)"
   ]
  },
  {
   "cell_type": "code",
   "execution_count": 9,
   "id": "be5e7b23-f429-4dfc-8f58-beb102ec0e14",
   "metadata": {},
   "outputs": [
    {
     "name": "stdout",
     "output_type": "stream",
     "text": [
      "False\n",
      "True\n"
     ]
    }
   ],
   "source": [
    "x, y, z = 5, 10, 8\n",
    "\n",
    "print(x > z)\n",
    "print((y - 5) == x)"
   ]
  },
  {
   "cell_type": "code",
   "execution_count": 11,
   "id": "d2bf1177-284d-486d-9511-3f76054af466",
   "metadata": {},
   "outputs": [
    {
     "name": "stdout",
     "output_type": "stream",
     "text": [
      "True\n",
      "False\n"
     ]
    }
   ],
   "source": [
    "x, y, z = 5, 10, 8\n",
    "x, y, z = z, y, x\n",
    "\n",
    "print(x > z)\n",
    "print((y - 5) == x)\n"
   ]
  },
  {
   "cell_type": "code",
   "execution_count": 13,
   "id": "c45c913b-9778-405c-a667-c1ea9d54d1a6",
   "metadata": {},
   "outputs": [
    {
     "name": "stdout",
     "output_type": "stream",
     "text": [
      "True\n",
      "True\n",
      "else\n"
     ]
    }
   ],
   "source": [
    "x = 10\n",
    "\n",
    "if x == 10:\n",
    "    print(x == 10)\n",
    "\n",
    "if x > 5:\n",
    "    print(x > 5)\n",
    "\n",
    "if x < 10:\n",
    "    print(x < 10)\n",
    "else:\n",
    "    print(\"else\")"
   ]
  },
  {
   "cell_type": "code",
   "execution_count": 15,
   "id": "e69c6735-ce26-4456-bbe4-7edcf0fa5f03",
   "metadata": {},
   "outputs": [
    {
     "name": "stdout",
     "output_type": "stream",
     "text": [
      "four\n",
      "five\n"
     ]
    }
   ],
   "source": [
    "x = \"1\"\n",
    "\n",
    "if x == 1:\n",
    "    print(\"one\")\n",
    "elif x == \"1\":\n",
    "    if int(x) > 1:\n",
    "        print(\"two\")\n",
    "    elif int(x) < 1:\n",
    "        print(\"three\")\n",
    "    else:\n",
    "        print(\"four\")\n",
    "if int(x) == 1:\n",
    "    print(\"five\")\n",
    "else:\n",
    "    print(\"six\")"
   ]
  },
  {
   "cell_type": "code",
   "execution_count": 17,
   "id": "675d24ec-c7fa-4f95-a8b9-e564a8eee2f4",
   "metadata": {},
   "outputs": [
    {
     "name": "stdout",
     "output_type": "stream",
     "text": [
      "one\n",
      "two\n"
     ]
    }
   ],
   "source": [
    "x = 1\n",
    "y = 1.0\n",
    "z = \"1\"\n",
    "\n",
    "if x == y:\n",
    "    print(\"one\")\n",
    "if y == int(z):\n",
    "    print(\"two\")\n",
    "elif x == y:\n",
    "    print(\"three\")\n",
    "else:\n",
    "    print(\"four\")"
   ]
  },
  {
   "cell_type": "code",
   "execution_count": null,
   "id": "0f3524a7-394e-44a5-9919-7fb25cfec104",
   "metadata": {},
   "outputs": [],
   "source": []
  }
 ],
 "metadata": {
  "kernelspec": {
   "display_name": "Python 3 (ipykernel)",
   "language": "python",
   "name": "python3"
  },
  "language_info": {
   "codemirror_mode": {
    "name": "ipython",
    "version": 3
   },
   "file_extension": ".py",
   "mimetype": "text/x-python",
   "name": "python",
   "nbconvert_exporter": "python",
   "pygments_lexer": "ipython3",
   "version": "3.12.4"
  }
 },
 "nbformat": 4,
 "nbformat_minor": 5
}
