{
 "cells": [
  {
   "cell_type": "code",
   "execution_count": 1,
   "id": "0d31f4d3-85e0-4194-92c3-0c5279c2c90a",
   "metadata": {},
   "outputs": [
    {
     "data": {
      "text/plain": [
       "900"
      ]
     },
     "execution_count": 1,
     "metadata": {},
     "output_type": "execute_result"
    }
   ],
   "source": [
    "# >>> 2 + 2  \n",
    "# >>> 50 - 5*6  \n",
    "# >>> (50 - 5*6) / 4  \n",
    "# >>> 8 / 5 # division always returns a floating point number  >>> 17 / 3 # classic division returns a float  \n",
    "# >>> 17 // 3 # floor division discards the fractional part  >>> 17 % 3 # the % operator returns the remainder of the  division  \n",
    "# >>> 5 * 3 + 2 # floored quotient * divisor + remainder  >>> 5 ** 2 # 5 squared  \n",
    "# >>> 2 ** 7 # 2 to the power of 7  \n",
    "# >>> width = 20  \n",
    "# >>> height = 5 * 9  \n",
    "# >>> width * height \n"
   ]
  },
  {
   "cell_type": "code",
   "execution_count": 3,
   "id": "86372277-cc52-4701-9683-c49dfcb2ef4b",
   "metadata": {},
   "outputs": [
    {
     "name": "stdout",
     "output_type": "stream",
     "text": [
      "5\n",
      "6\n",
      "This is a multi-line string. \n",
      "This is the second line.\n"
     ]
    }
   ],
   "source": [
    "i = 5 \n",
    "print(i) \n",
    "i = i + 1 \n",
    "print(i) \n",
    "s = '''This is a multi-line string. \n",
    "This is the second line.''' \n",
    "print(s)"
   ]
  },
  {
   "cell_type": "code",
   "execution_count": 9,
   "id": "c79599b6-eb5d-4619-86aa-0dc57ec774dc",
   "metadata": {},
   "outputs": [
    {
     "name": "stdout",
     "output_type": "stream",
     "text": [
      "Tulis angka pertama:  110\n",
      "Tulis angka kedua:  20\n"
     ]
    },
    {
     "name": "stdout",
     "output_type": "stream",
     "text": [
      "Hasil Penjumlahan 110 dan 20 adalah 130\n"
     ]
    }
   ],
   "source": [
    "angka1 = input('Tulis angka pertama: ') \n",
    "angka2 = input('Tulis angka kedua: ') \n",
    "\n",
    "sum = int(angka1) + int(angka2) \n",
    "\n",
    "print('Hasil Penjumlahan {0} dan {1} adalah {2}'.format(angka1, angka2, sum)) \n"
   ]
  },
  {
   "cell_type": "code",
   "execution_count": 11,
   "id": "7a8f0033-34e0-4fa1-bd2b-c9fe1018ac34",
   "metadata": {},
   "outputs": [
    {
     "name": "stdout",
     "output_type": "stream",
     "text": [
      "Keuntungan Skenario 1: Rp 875000 (5.38%)\n",
      "Keuntungan Skenario 2: Rp 2075000.0 (7.82%)\n"
     ]
    }
   ],
   "source": [
    "\n",
    "def hitung_keuntungan_skenario_1(harga_beli_per_gram, harga_jual_per_gram, jumlah_gram):\n",
    "    total_beli = harga_beli_per_gram * jumlah_gram\n",
    "    total_jual = harga_jual_per_gram * jumlah_gram\n",
    "    keuntungan_rupiah = total_jual - total_beli\n",
    "    keuntungan_persen = (keuntungan_rupiah / total_beli) * 100\n",
    "    return keuntungan_rupiah, keuntungan_persen\n",
    "\n",
    "\n",
    "def hitung_keuntungan_skenario_2(total_gram, harga_beli_rata2, harga_jual_per_gram):\n",
    "    total_beli = harga_beli_rata2 * total_gram\n",
    "    total_jual = harga_jual_per_gram * total_gram\n",
    "    keuntungan_rupiah = total_jual - total_beli\n",
    "    keuntungan_persen = (keuntungan_rupiah / total_beli) * 100\n",
    "    return keuntungan_rupiah, keuntungan_persen\n",
    "\n",
    "\n",
    "harga_beli_awal = 650000  \n",
    "harga_jual_sekarang = 685000 \n",
    "jumlah_gram_awal = 25  \n",
    "keuntungan_skenario_1 = hitung_keuntungan_skenario_1(harga_beli_awal, harga_jual_sekarang, jumlah_gram_awal)\n",
    "\n",
    "\n",
    "harga_beli_baru = 685000  \n",
    "jumlah_gram_baru = 15  \n",
    "total_gram = 40  \n",
    "harga_beli_rata2 = (harga_beli_awal * jumlah_gram_awal + harga_beli_baru * jumlah_gram_baru) / total_gram  \n",
    "harga_jual_naik = 715000  \n",
    "keuntungan_skenario_2 = hitung_keuntungan_skenario_2(total_gram, harga_beli_rata2, harga_jual_naik)\n",
    "\n",
    "# Tampilkan hasil\n",
    "print(f\"Keuntungan Skenario 1: Rp {keuntungan_skenario_1[0]} ({keuntungan_skenario_1[1]:.2f}%)\")\n",
    "print(f\"Keuntungan Skenario 2: Rp {keuntungan_skenario_2[0]} ({keuntungan_skenario_2[1]:.2f}%)\")\n"
   ]
  },
  {
   "cell_type": "code",
   "execution_count": 13,
   "id": "756ca237-29dd-4113-a42d-b81059b27299",
   "metadata": {},
   "outputs": [
    {
     "name": "stdout",
     "output_type": "stream",
     "text": [
      "Waktu yang dibutuhkan: 7.27 tahun\n"
     ]
    }
   ],
   "source": [
    "import math\n",
    "\n",
    "# Variabel yang diketahui\n",
    "P = 200_000_000  # jumlah awal dalam rupiah\n",
    "A = 400_000_000  # jumlah akhir dalam rupiah\n",
    "r = 0.10  # bunga per tahun\n",
    "\n",
    "\n",
    "t = math.log(A / P) / math.log(1 + r)\n",
    "\n",
    "\n",
    "print(f\"Waktu yang dibutuhkan: {t:.2f} tahun\")\n"
   ]
  },
  {
   "cell_type": "code",
   "execution_count": 20,
   "id": "5b791055-98d8-496d-827d-3ff20c2f8d1a",
   "metadata": {},
   "outputs": [
    {
     "name": "stdout",
     "output_type": "stream",
     "text": [
      "Laba Pertama: Rp.875,000\n",
      "Persentase Laba Pertama: 5.38%\n",
      "\n",
      "Total Laba Setelah Belanja Tambahan: Rp.2,600,000\n",
      "Persentase Total Laba Setelah Belanja Tambahan: 10.00%\n"
     ]
    }
   ],
   "source": [
    "def hitung_keuntungan(beli_awal_gram, biaya_beli_per_gram, harga_jual_sekarang, tambahan_gram=None, harga_baru=None):\n",
    "    # Menghitung nilai awal dan laba pertama\n",
    "    nilai_awal_biaya = beli_awal_gram * biaya_beli_per_gram\n",
    "    nilai_harga_saat_ini = beli_awal_gram * harga_jual_sekarang\n",
    "    laba_pertama = nilai_harga_saat_ini - nilai_awal_biaya\n",
    "    persentase_laba_pertama = (laba_pertama / nilai_awal_biaya) * 100\n",
    "    \n",
    "    print(f\"Laba Pertama: Rp.{int(laba_pertama):,.0f}\")\n",
    "    print(f\"Persentase Laba Pertama: {persentase_laba_pertama:.2f}%\")\n",
    "    \n",
    "    # Jika ada tambahan gram dan harga baru, lakukan penghitungan lainnya.\n",
    "    if tambahan_gram is not None and harga_baru is not None:\n",
    "        total_biaya = nilai_awal_biaya + (tambahan_gram * biaya_beli_per_gram)\n",
    "        gram_total = beli_awal_gram + tambahan_gram\n",
    "        nilai_harga_baru = gram_total * harga_baru\n",
    "        laba_baru = nilai_harga_baru - total_biaya\n",
    "        persentase_laba_baru = (laba_baru / total_biaya) * 100\n",
    "        \n",
    "        print(f\"\\nTotal Laba Setelah Belanja Tambahan: Rp.{int(laba_baru):,.0f}\")\n",
    "        print(f\"Persentase Total Laba Setelah Belanja Tambahan: {persentase_laba_baru:.2f}%\")\n",
    "\n",
    "# Input Nilai Awal Gram, Biaya Beli Per Gram, Harga Jual Saat Ini, Tambahan Gram Dan Harga Baru (Jika Ada)\n",
    "beli_awal_gram = 25  # Gram Awal Yang Ditransaksikan Gerard\n",
    "biaya_beli_per_gram = 650000  # Biaya Beli Per Gram Emas Di Awal Transaksi Gerard\n",
    "harga_jual_sekarang = 685000  # Harga Jual Saat Ini Untuk Setiap Gram Emas\n",
    "tambahan_gram = 15  # Misalnya Tambahan Gram\n",
    "harga_baru = 715000  # Harga Baru Setelah Kenaikan\n",
    "\n",
    "# Memanggil fungsi dengan input yang sudah ditentukan\n",
    "hitung_keuntungan(beli_awal_gram, biaya_beli_per_gram, harga_jual_sekarang, tambahan_gram, harga_baru)\n"
   ]
  },
  {
   "cell_type": "code",
   "execution_count": null,
   "id": "be8dc6f6-3d13-4075-8866-f2ce45765077",
   "metadata": {},
   "outputs": [],
   "source": []
  }
 ],
 "metadata": {
  "kernelspec": {
   "display_name": "Python 3 (ipykernel)",
   "language": "python",
   "name": "python3"
  },
  "language_info": {
   "codemirror_mode": {
    "name": "ipython",
    "version": 3
   },
   "file_extension": ".py",
   "mimetype": "text/x-python",
   "name": "python",
   "nbconvert_exporter": "python",
   "pygments_lexer": "ipython3",
   "version": "3.12.4"
  }
 },
 "nbformat": 4,
 "nbformat_minor": 5
}
