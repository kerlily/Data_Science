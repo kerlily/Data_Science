{
 "cells": [
  {
   "cell_type": "code",
   "execution_count": 1,
   "id": "bcb1bbd4-dab9-455e-ac9a-4e6e2a370412",
   "metadata": {},
   "outputs": [
    {
     "name": "stdout",
     "output_type": "stream",
     "text": [
      "[[ 2  3  4]\n",
      " [ 5  6  7]\n",
      " [ 8  9 10]]\n"
     ]
    }
   ],
   "source": [
    "import numpy as np\n",
    "\n",
    "# Membuat matriks 3x3 dengan nilai antara 2 hingga 10\n",
    "matrix = np.arange(2, 11).reshape(3, 3)\n",
    "print(matrix)\n"
   ]
  },
  {
   "cell_type": "code",
   "execution_count": 3,
   "id": "098c924d-77f7-4687-853c-5ec4de64163e",
   "metadata": {},
   "outputs": [
    {
     "name": "stdout",
     "output_type": "stream",
     "text": [
      "Gabungan dua array: [ 0 10 20 30 40 50 60 70 80]\n"
     ]
    }
   ],
   "source": [
    "import numpy as np\n",
    "\n",
    "# Array input\n",
    "array1 = np.array([0, 10, 20, 40, 60, 80])\n",
    "array2 = np.array([10, 30, 40, 50, 70])\n",
    "\n",
    "# Menghitung gabungan (union) dua array\n",
    "union_array = np.union1d(array1, array2)\n",
    "print(\"Gabungan dua array:\", union_array)\n"
   ]
  },
  {
   "cell_type": "code",
   "execution_count": 14,
   "id": "9c5c9705-1530-45e6-a7bf-867bfe78cffb",
   "metadata": {},
   "outputs": [
    {
     "name": "stdout",
     "output_type": "stream",
     "text": [
      "7 Data Pertama:\n",
      "   fruit_label fruit_name fruit_subtype  mass  width  height\n",
      "0            1      Apple  Granny_smith   192    8.4     7.3\n",
      "1            1      Apple  Granny_smith   180    8.6     6.8\n",
      "2            1      Apple  Granny_smith   176    7.4     7.2\n",
      "3            2   Mandarin      Mandarin    86    6.2     4.7\n",
      "4            2   Mandarin      Mandarin    84    6.0     4.6\n",
      "5            2   Mandarin      Mandarin    80    5.8     4.3\n",
      "6            1      Apple      Braeburn   166    6.9     7.3\n",
      "\n",
      "4 Data Terakhir:\n",
      "   fruit_label fruit_name fruit_subtype  mass  width  height\n",
      "4            2   Mandarin      Mandarin    84    6.0     4.6\n",
      "5            2   Mandarin      Mandarin    80    5.8     4.3\n",
      "6            1      Apple      Braeburn   166    6.9     7.3\n",
      "7            1      Apple      Braeburn   172    7.1     7.6\n",
      "\n",
      "Data diurutkan berdasarkan mass:\n",
      "   fruit_label fruit_name fruit_subtype  mass  width  height\n",
      "5            2   Mandarin      Mandarin    80    5.8     4.3\n",
      "4            2   Mandarin      Mandarin    84    6.0     4.6\n",
      "3            2   Mandarin      Mandarin    86    6.2     4.7\n",
      "6            1      Apple      Braeburn   166    6.9     7.3\n",
      "7            1      Apple      Braeburn   172    7.1     7.6\n",
      "2            1      Apple  Granny_smith   176    7.4     7.2\n",
      "1            1      Apple  Granny_smith   180    8.6     6.8\n",
      "0            1      Apple  Granny_smith   192    8.4     7.3\n",
      "\n",
      "Kolom fruit_name, width, dan height:\n",
      "  fruit_name  width  height\n",
      "0      Apple    8.4     7.3\n",
      "1      Apple    8.6     6.8\n",
      "2      Apple    7.4     7.2\n",
      "3   Mandarin    6.2     4.7\n",
      "4   Mandarin    6.0     4.6\n",
      "5   Mandarin    5.8     4.3\n",
      "6      Apple    6.9     7.3\n",
      "7      Apple    7.1     7.6\n"
     ]
    }
   ],
   "source": [
    "import pandas as pd\n",
    "\n",
    "# Memuat data dari file CSV\n",
    "data = pd.read_csv('data_1.csv')\n",
    "\n",
    "# Menampilkan 7 data pertama\n",
    "print(\"7 Data Pertama:\")\n",
    "print(data.head(7))\n",
    "\n",
    "# Menampilkan 4 data terakhir\n",
    "print(\"\\n4 Data Terakhir:\")\n",
    "print(data.tail(4))\n",
    "\n",
    "# Mengurutkan data berdasarkan kolom 'mass' secara ascending\n",
    "data_sorted = data.sort_values(by='mass', ascending=True)\n",
    "print(\"\\nData diurutkan berdasarkan mass:\")\n",
    "print(data_sorted)\n",
    "\n",
    "# Menampilkan hanya kolom 'fruit_name', 'width', dan 'height'\n",
    "print(\"\\nKolom fruit_name, width, dan height:\")\n",
    "print(data[['fruit_name', 'width', 'height']])\n"
   ]
  },
  {
   "cell_type": "code",
   "execution_count": 7,
   "id": "7fe958c4-2875-4a27-bf83-beecd11eb85a",
   "metadata": {},
   "outputs": [
    {
     "name": "stdout",
     "output_type": "stream",
     "text": [
      "Data Series Kabupaten dan Populasi:\n",
      "Semarang      450000\n",
      "Kendal        176000\n",
      "Batang        160000\n",
      "Pekalongan     74000\n",
      "Pemalang      210000\n",
      "Tegal         189000\n",
      "dtype: int64\n",
      "\n",
      "Data Teratas:\n",
      "Semarang    450000\n",
      "dtype: int64\n",
      "\n",
      "Data Terakhir:\n",
      "Tegal    189000\n",
      "dtype: int64\n",
      "\n",
      "Data dengan index 1 sampai 3:\n",
      "Kendal        176000\n",
      "Batang        160000\n",
      "Pekalongan     74000\n",
      "dtype: int64\n",
      "\n",
      "Nama Kabupaten:\n",
      "Index(['Semarang', 'Kendal', 'Batang', 'Pekalongan', 'Pemalang', 'Tegal'], dtype='object')\n",
      "\n",
      "Populasi:\n",
      "[450000 176000 160000  74000 210000 189000]\n"
     ]
    }
   ],
   "source": [
    "import pandas as pd\n",
    "\n",
    "# Data Kabupaten dan Populasi\n",
    "kabupaten = ['Semarang', 'Kendal', 'Batang', 'Pekalongan', 'Pemalang', 'Tegal']\n",
    "populasi = [450000, 176000, 160000, 74000, 210000, 189000]\n",
    "\n",
    "# Membuat data series\n",
    "data_series = pd.Series(populasi, index=kabupaten)\n",
    "print(\"Data Series Kabupaten dan Populasi:\")\n",
    "print(data_series)\n",
    "\n",
    "# Menampilkan data teratas dan terakhir\n",
    "print(\"\\nData Teratas:\")\n",
    "print(data_series.head(1))\n",
    "print(\"\\nData Terakhir:\")\n",
    "print(data_series.tail(1))\n",
    "\n",
    "# Menampilkan data dengan index 1 sampai 3\n",
    "print(\"\\nData dengan index 1 sampai 3:\")\n",
    "print(data_series.iloc[1:4])\n",
    "\n",
    "# Menampilkan data kabupaten\n",
    "print(\"\\nNama Kabupaten:\")\n",
    "print(data_series.index)\n",
    "\n",
    "# Menampilkan populasi saja\n",
    "print(\"\\nPopulasi:\")\n",
    "print(data_series.values)\n"
   ]
  },
  {
   "cell_type": "code",
   "execution_count": null,
   "id": "f3188f87-5fff-4836-a0d8-fa1d3c1b51fb",
   "metadata": {},
   "outputs": [],
   "source": []
  }
 ],
 "metadata": {
  "kernelspec": {
   "display_name": "base",
   "language": "python",
   "name": "python3"
  },
  "language_info": {
   "codemirror_mode": {
    "name": "ipython",
    "version": 3
   },
   "file_extension": ".py",
   "mimetype": "text/x-python",
   "name": "python",
   "nbconvert_exporter": "python",
   "pygments_lexer": "ipython3",
   "version": "3.12.4"
  }
 },
 "nbformat": 4,
 "nbformat_minor": 5
}
